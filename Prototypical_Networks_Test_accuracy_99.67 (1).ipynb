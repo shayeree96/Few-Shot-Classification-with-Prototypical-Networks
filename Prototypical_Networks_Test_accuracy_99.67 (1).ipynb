{
 "cells": [
  {
   "cell_type": "code",
   "execution_count": 15,
   "metadata": {},
   "outputs": [],
   "source": [
    "import os\n",
    "import numpy as np\n",
    "import cv2\n",
    "import tqdm\n",
    "import multiprocessing as mp\n",
    "\n",
    "import torch\n",
    "import torch.nn as nn\n",
    "import torch.nn.functional as F\n",
    "import torch.optim as optim\n",
    "from torch.autograd import Variable\n",
    "import torchvision\n",
    "import matplotlib.pyplot as plt"
   ]
  },
  {
   "cell_type": "code",
   "execution_count": 16,
   "metadata": {},
   "outputs": [
    {
     "name": "stdout",
     "output_type": "stream",
     "text": [
      "Tue Oct 20 20:58:19 2020       \n",
      "+-----------------------------------------------------------------------------+\n",
      "| NVIDIA-SMI 440.33.01    Driver Version: 440.33.01    CUDA Version: 10.2     |\n",
      "|-------------------------------+----------------------+----------------------+\n",
      "| GPU  Name        Persistence-M| Bus-Id        Disp.A | Volatile Uncorr. ECC |\n",
      "| Fan  Temp  Perf  Pwr:Usage/Cap|         Memory-Usage | GPU-Util  Compute M. |\n",
      "|===============================+======================+======================|\n",
      "|   0  TITAN RTX           Off  | 00000000:04:00.0 Off |                  N/A |\n",
      "| 41%   34C    P2    68W / 280W |   2844MiB / 24220MiB |      0%      Default |\n",
      "+-------------------------------+----------------------+----------------------+\n",
      "|   1  TITAN RTX           Off  | 00000000:05:00.0 Off |                  N/A |\n",
      "| 41%   49C    P2    56W / 280W |  11365MiB / 24220MiB |      0%      Default |\n",
      "+-------------------------------+----------------------+----------------------+\n",
      "|   2  TITAN RTX           Off  | 00000000:08:00.0 Off |                  N/A |\n",
      "| 97%   88C    P2   230W / 280W |  22340MiB / 24220MiB |    100%      Default |\n",
      "+-------------------------------+----------------------+----------------------+\n",
      "|   3  TITAN RTX           Off  | 00000000:09:00.0 Off |                  N/A |\n",
      "| 41%   33C    P8     5W / 280W |     11MiB / 24220MiB |      0%      Default |\n",
      "+-------------------------------+----------------------+----------------------+\n",
      "|   4  TITAN RTX           Off  | 00000000:84:00.0 Off |                  N/A |\n",
      "| 41%   25C    P8     1W / 280W |     11MiB / 24220MiB |      0%      Default |\n",
      "+-------------------------------+----------------------+----------------------+\n",
      "|   5  TITAN RTX           Off  | 00000000:85:00.0 Off |                  N/A |\n",
      "| 40%   24C    P8    15W / 280W |     11MiB / 24220MiB |      0%      Default |\n",
      "+-------------------------------+----------------------+----------------------+\n",
      "|   6  TITAN RTX           Off  | 00000000:88:00.0 Off |                  N/A |\n",
      "| 41%   23C    P8     3W / 280W |   2526MiB / 24220MiB |      0%      Default |\n",
      "+-------------------------------+----------------------+----------------------+\n",
      "|   7  TITAN RTX           Off  | 00000000:89:00.0 Off |                  N/A |\n",
      "| 41%   24C    P8    13W / 280W |     11MiB / 24220MiB |      0%      Default |\n",
      "+-------------------------------+----------------------+----------------------+\n",
      "                                                                               \n",
      "+-----------------------------------------------------------------------------+\n",
      "| Processes:                                                       GPU Memory |\n",
      "|  GPU       PID   Type   Process name                             Usage      |\n",
      "|=============================================================================|\n",
      "|    0     22765      C   .../anaconda3/envs/shayeree_env/bin/python  1249MiB |\n",
      "|    0     35128      C   python3                                      719MiB |\n",
      "|    0     40223      C   .../anaconda3/envs/shayeree_env/bin/python   861MiB |\n",
      "|    1     19797      C   .../anaconda3/envs/shayeree_env/bin/python  1837MiB |\n",
      "|    1     40223      C   .../anaconda3/envs/shayeree_env/bin/python  4493MiB |\n",
      "|    1     42000      C   .../anaconda3/envs/shayeree_env/bin/python  2509MiB |\n",
      "|    1     43749      C   .../anaconda3/envs/shayeree_env/bin/python  2513MiB |\n",
      "|    2     35128      C   python3                                    22325MiB |\n",
      "+-----------------------------------------------------------------------------+\n"
     ]
    }
   ],
   "source": [
    "!nvidia-smi"
   ]
  },
  {
   "cell_type": "code",
   "execution_count": 17,
   "metadata": {},
   "outputs": [],
   "source": [
    "class DataLoader():\n",
    "    def read_characters(self, dataset_directory, script_directory):\n",
    "        image_data = []\n",
    "        image_tag = []\n",
    "        characters = os.listdir(os.path.join(dataset_directory, script_directory))\n",
    "        \n",
    "        for char in characters:\n",
    "            images = os.listdir(os.path.join(dataset_directory,script_directory,char))\n",
    "\n",
    "            for img in images:\n",
    "                try:\n",
    "                    img_path = os.path.join(dataset_directory,script_directory,char,img)\n",
    "                    img_array = cv2.resize(cv2.imread(img_path),(28,28))\n",
    "                    \n",
    "                    \n",
    "                    img_rotated_90 = cv2.rotate(img_array, cv2.ROTATE_90_CLOCKWISE)\n",
    "                    img_rotated_180 = cv2.rotate(img_array, cv2.ROTATE_180)\n",
    "                    img_rotated_270 = cv2.rotate(img_array, cv2.ROTATE_90_COUNTERCLOCKWISE)\n",
    "                    # print(img_path)\n",
    "                    \n",
    "                    image_data.extend((img_array, img_rotated_90, img_rotated_180, img_rotated_270))\n",
    "                    image_tag.extend((\n",
    "                        script_directory+\"_\"+char+\"_\"+\"0\",\n",
    "                        script_directory+\"_\"+char+\"_\"+\"90\",\n",
    "                        script_directory+\"_\"+char+\"_\"+\"180\",\n",
    "                        script_directory+\"_\"+char+\"_\"+\"270\"\n",
    "                    ))\n",
    "                except AssertionError as error:\n",
    "                    print(error)\n",
    "        return np.array(image_data), np.array(image_tag)\n",
    "\n",
    "    def read_images(self, dataset_directory):\n",
    "        pool = mp.Pool(mp.cpu_count())\n",
    "        scripts_list = os.listdir(dataset_directory)\n",
    "        \n",
    "        results = [pool.apply(self.read_characters, args=(dataset_directory, scripts)) for scripts in scripts_list]\n",
    "        pool.close()\n",
    "\n",
    "        img_array = None\n",
    "        img_tag = None\n",
    "\n",
    "        for result in results:\n",
    "            if img_array is None:\n",
    "                img_array = result[0]\n",
    "                img_tag = result[1]\n",
    "            else:\n",
    "                img_array = np.vstack([img_array, result[0]])\n",
    "                img_tag = np.concatenate([img_tag, result[1]])\n",
    "        return img_array, img_tag\n",
    "\n",
    "    def extract_sample(self, n_way, n_shot, n_query, img_array, img_tag):\n",
    "        sample = []\n",
    "        K = np.random.choice(np.unique(img_tag), n_way, replace=False)\n",
    "        \n",
    "        for cls in K:\n",
    "            img_cls = img_array[img_tag == cls] # Choosing img with particular class\n",
    "            perm = np.random.permutation(img_cls) # Permuting them\n",
    "            sample_cls = perm[:(n_shot+n_query)] # Picking Support and Query images\n",
    "            sample.append(sample_cls)\n",
    "        \n",
    "        sample = np.array(sample)\n",
    "        sample = torch.from_numpy(sample).float()\n",
    "        sample = sample.permute(0,1,4,2,3) # reordering the images\n",
    "        return({\n",
    "            'images': sample,\n",
    "            'n_way': n_way,\n",
    "            'n_shot': n_shot,\n",
    "            'n_query': n_query\n",
    "            })"
   ]
  },
  {
   "cell_type": "code",
   "execution_count": 18,
   "metadata": {},
   "outputs": [],
   "source": [
    "class Encoder(nn.Module):\n",
    "    def __init__(self):\n",
    "        super(Encoder,self).__init__()\n",
    "        self.encoder()\n",
    "\n",
    "    def conv_block(self, in_channels, out_channels):\n",
    "        return nn.Sequential(\n",
    "            nn.Conv2d(in_channels, out_channels, 3, padding=1),\n",
    "            nn.BatchNorm2d(out_channels),\n",
    "            nn.ReLU(),\n",
    "            nn.MaxPool2d(2)\n",
    "        )\n",
    "\n",
    "    def encoder(self):\n",
    "        self.encode = nn.Sequential(\n",
    "            self.conv_block(3,64),\n",
    "            self.conv_block(64,64),\n",
    "            self.conv_block(64,64),\n",
    "            self.conv_block(64,64),\n",
    "            nn.Flatten()\n",
    "        )\n",
    "\n",
    "    def forward(self, x):\n",
    "        return self.encode(x)"
   ]
  },
  {
   "cell_type": "code",
   "execution_count": 19,
   "metadata": {},
   "outputs": [],
   "source": [
    "class Protonet(nn.Module):\n",
    "    \n",
    "    def __init__(self, Encoder):\n",
    "        super(Protonet, self).__init__()\n",
    "        self.device=torch.device('cuda:1' if torch.cuda.is_available() else 'cpu')\n",
    "        self.Encoder = Encoder.to(self.device)\n",
    "\n",
    "    def Euclidean_Distance(self, x, y):\n",
    "        # x is a 2d matrix of each support units embedding-> (n_way*n_shot)x(d)\n",
    "        # y is a 2d matrix of each centroic -> (n_way)*(d)\n",
    "        # To Return: Euclidean distance of each point to centroid\n",
    "        # i.e. (n_way*n_shot)*(n_way)\n",
    "        \n",
    "        n = x.size(0) # number of training images\n",
    "        m = y.size(0) # number of classes\n",
    "        d = x.size(1) # size of embedding\n",
    "\n",
    "        x = x.unsqueeze(1).expand(n, m, d)\n",
    "        y = y.unsqueeze(0).expand(n, m, d)\n",
    "\n",
    "        return torch.pow(x - y, 2).sum(2)\n",
    "\n",
    "    def forward_loss(self, episode):\n",
    "        images = episode['images'].to(self.device)\n",
    "        n_way = episode['n_way']\n",
    "        n_shot = episode['n_shot']\n",
    "        n_query = episode['n_query']\n",
    "\n",
    "        img_support = images[:, :n_shot]\n",
    "        img_query = images[:, n_shot:]\n",
    "\n",
    "        target_inds = torch.arange(0, n_way).view(n_way, 1, 1).expand(n_way, n_query, 1).long()\n",
    "        target_inds = Variable(target_inds, requires_grad=False)\n",
    "        target_inds = target_inds.to(self.device)\n",
    "\n",
    "        # encode images of the support and the query set\n",
    "        x = torch.cat([img_support.contiguous().view(n_way * n_shot, *img_support.size()[2:]),\n",
    "                       img_query.contiguous().view(n_way * n_query, *img_query.size()[2:])], 0)\n",
    "    \n",
    "        z = self.Encoder.forward(x)\n",
    "        z_dim = z.size(-1) # usually 64\n",
    "        z_proto = z[:n_way*n_shot].view(n_way, n_shot, z_dim).mean(1) # centroid\n",
    "        z_query = z[n_way*n_support:]\n",
    "\n",
    "        #compute distances\n",
    "        dists = self.Euclidean_Distance(z_query, z_proto)\n",
    "        \n",
    "        #print(\"Shape of dists :\",dists.shape)\n",
    "        #print(\"dists\",dists[1,:])\n",
    "        #compute probabilities\n",
    "        log_p_y = F.log_softmax(-dists, dim=1).view(n_way, n_query, -1)\n",
    "        #print('after Softmax shape:',F.log_softmax(-dists, dim=1).shape)\n",
    "        #print(\"after reshape :\",log_p_y.shape)\n",
    "    \n",
    "        loss_val = -log_p_y.gather(2, target_inds).squeeze().view(-1).mean()\n",
    "        _, y_predicted = log_p_y.max(2)\n",
    "        #print(\"Y predicted shape :\",y_predicted.shape)\n",
    "        #print('Y predicted :',type(y_predicted))\n",
    "        #print('Target inds :',(type(target_inds)))\n",
    "        acc_val = torch.eq(y_predicted, target_inds.squeeze()).float().mean()\n",
    "        #print(type(y_predicted))\n",
    "    \n",
    "        return loss_val, {\n",
    "            'loss': loss_val.item(),\n",
    "            'acc': acc_val.item(),\n",
    "            'y_predicted': y_predicted\n",
    "            }"
   ]
  },
  {
   "cell_type": "code",
   "execution_count": 20,
   "metadata": {},
   "outputs": [],
   "source": [
    "class Train(nn.Module):\n",
    "    def __init__():\n",
    "        super(Train,self).__init__()\n",
    "        self.device=torch.device('cuda:1' if torch.cuda.is_available() else 'cpu')\n",
    "\n",
    "    def train(model, optimizer, train_x, train_y, n_way, n_shot, n_query, max_epoch, epoch_size, dataloader):\n",
    "        scheduler = optim.lr_scheduler.StepLR(optimizer, 1, gamma=0.5, last_epoch=-1)\n",
    "        epoch = 0\n",
    "        stop = False\n",
    "\n",
    "        while(epoch < max_epoch and stop==False):\n",
    "            running_loss = 0.0\n",
    "            running_acc = 0.0\n",
    "\n",
    "            for episode in tqdm.notebook.tnrange(epoch_size, desc=\"Epoch {:d} train\".format(epoch+1)):\n",
    "                sample = dataloader.extract_sample(n_way, n_support, n_query, train_x, train_y) # Extract episode data\n",
    "                \n",
    "                optimizer.zero_grad()\n",
    "                loss, output = model.forward_loss(sample)\n",
    "                \n",
    "                running_loss += output['loss']\n",
    "                running_acc += output['acc']\n",
    "                \n",
    "                loss.backward()\n",
    "                optimizer.step()\n",
    "\n",
    "            epoch_loss = running_loss / epoch_size\n",
    "            epoch_acc = running_acc / epoch_size\n",
    "            print('Epoch {:d} -- Loss: {:.4f} Acc: {:.4f}'.format(epoch+1,epoch_loss, epoch_acc))\n",
    "            epoch += 1\n",
    "            scheduler.step()\n",
    "\n",
    "    def test(model, test_x, test_y, n_way, n_shot, n_query, test_episode, dataloader):\n",
    "        running_loss = 0.0\n",
    "        running_acc = 0.0\n",
    "        for episode in tqdm.notebook.tnrange(test_episode):\n",
    "            sample = dataloader.extract_sample(n_way, n_shot, n_query, test_x, test_y)\n",
    "            loss, output = model.forward_loss(sample)\n",
    "            running_loss += output['loss']\n",
    "            running_acc += output['acc']\n",
    "        avg_loss = running_loss / test_episode\n",
    "        avg_acc = running_acc / test_episode\n",
    "        print('Test results -- Loss: {:.4f} Acc: {:.4f}'.format(avg_loss, avg_acc))\n",
    "        \n",
    "    def encode(episode, model):\n",
    "        images = episode['images'].to(self.device)\n",
    "        n_way = episode['n_way']\n",
    "        n_shot = episode['n_shot']\n",
    "        n_query = episode['n_query']\n",
    "\n",
    "        img_support = images[:, :n_shot]\n",
    "        img_query = images[:, n_shot:]\n",
    "\n",
    "        target_inds = torch.arange(0, n_way).view(n_way, 1, 1).expand(n_way, n_query, 1).long()\n",
    "        target_inds = Variable(target_inds, requires_grad=False)\n",
    "        target_inds = target_inds.to(self.device)\n",
    "\n",
    "        # encode images of the support and the query set\n",
    "        x = torch.cat([img_support.contiguous().view(n_way * n_shot, *img_support.size()[2:]),\n",
    "                       img_query.contiguous().view(n_way * n_query, *img_query.size()[2:])], 0)\n",
    "    \n",
    "        z = model.Encoder.forward(x)\n",
    "        z_dim = z.size(-1) # usually 64\n",
    "        z_proto = z[:n_way*n_shot].view(n_way, n_shot, z_dim).mean(1) # centroid\n",
    "        z_query = z[n_way*n_support:]\n",
    "        \n",
    "        return z, target_inds"
   ]
  },
  {
   "cell_type": "code",
   "execution_count": 7,
   "metadata": {},
   "outputs": [],
   "source": [
    "dataloader = DataLoader()\n",
    "train_x, train_y = dataloader.read_images('./omniglot/images_background/')\n",
    "test_x, test_y = dataloader.read_images('./omniglot/images_evaluation/')"
   ]
  },
  {
   "cell_type": "code",
   "execution_count": 21,
   "metadata": {},
   "outputs": [
    {
     "name": "stderr",
     "output_type": "stream",
     "text": [
      "Clipping input data to the valid range for imshow with RGB data ([0..1] for floats or [0..255] for integers).\n"
     ]
    },
    {
     "data": {
      "image/png": "[encoded data removed]",
      "text/plain": [
       "<Figure size 1152x504 with 1 Axes>"
      ]
     },
     "metadata": {
      "needs_background": "light"
     },
     "output_type": "display_data"
    }
   ],
   "source": [
    "from matplotlib import pyplot as plt\n",
    "\n",
    "def display_sample(sample):\n",
    "  \"\"\"\n",
    "  Displays sample in a grid\n",
    "  Args:\n",
    "      sample (torch.Tensor): sample of images to display\n",
    "  \"\"\"\n",
    "  # need 4D tensor to create grid, currently 5D\n",
    "  sample_4D = sample.view(sample.shape[0]*sample.shape[1],*sample.shape[2:])\n",
    "  # make a grid\n",
    "  out = torchvision.utils.make_grid(sample_4D, nrow=sample.shape[1])\n",
    "  plt.figure(figsize = (16,7))\n",
    "  plt.imshow(out.permute(1, 2, 0))\n",
    "\n",
    "sample_example = dataloader.extract_sample(8, 5, 5, train_x, train_y)\n",
    "display_sample(sample_example['images'])"
   ]
  },
  {
   "cell_type": "code",
   "execution_count": 22,
   "metadata": {},
   "outputs": [],
   "source": [
    "encoder = Encoder()\n",
    "model = Protonet(encoder)\n"
   ]
  },
  {
   "cell_type": "code",
   "execution_count": 15,
   "metadata": {},
   "outputs": [
    {
     "data": {
      "application/vnd.jupyter.widget-view+json": {
       "model_id": "db9c83c5db1c415dbe8a76a34026bf6e",
       "version_major": 2,
       "version_minor": 0
      },
      "text/plain": [
       "HBox(children=(FloatProgress(value=0.0, description='Epoch 1 train', max=2000.0, style=ProgressStyle(descripti…"
      ]
     },
     "metadata": {},
     "output_type": "display_data"
    },
    {
     "name": "stdout",
     "output_type": "stream",
     "text": [
      "\n",
      "Epoch 1 -- Loss: 0.1166 Acc: 0.9640\n"
     ]
    },
    {
     "data": {
      "application/vnd.jupyter.widget-view+json": {
       "model_id": "278b3a182ab048729f5025a0795fe0d0",
       "version_major": 2,
       "version_minor": 0
      },
      "text/plain": [
       "HBox(children=(FloatProgress(value=0.0, description='Epoch 2 train', max=2000.0, style=ProgressStyle(descripti…"
      ]
     },
     "metadata": {},
     "output_type": "display_data"
    },
    {
     "name": "stdout",
     "output_type": "stream",
     "text": [
      "\n",
      "Epoch 2 -- Loss: 0.0457 Acc: 0.9839\n"
     ]
    },
    {
     "data": {
      "application/vnd.jupyter.widget-view+json": {
       "model_id": "36a9352ba921463b94ad7999d1907101",
       "version_major": 2,
       "version_minor": 0
      },
      "text/plain": [
       "HBox(children=(FloatProgress(value=0.0, description='Epoch 3 train', max=2000.0, style=ProgressStyle(descripti…"
      ]
     },
     "metadata": {},
     "output_type": "display_data"
    },
    {
     "name": "stdout",
     "output_type": "stream",
     "text": [
      "\n",
      "Epoch 3 -- Loss: 0.0352 Acc: 0.9868\n"
     ]
    },
    {
     "data": {
      "application/vnd.jupyter.widget-view+json": {
       "model_id": "f8998f25eccc4608b1709260b416d609",
       "version_major": 2,
       "version_minor": 0
      },
      "text/plain": [
       "HBox(children=(FloatProgress(value=0.0, description='Epoch 4 train', max=2000.0, style=ProgressStyle(descripti…"
      ]
     },
     "metadata": {},
     "output_type": "display_data"
    },
    {
     "name": "stdout",
     "output_type": "stream",
     "text": [
      "\n",
      "Epoch 4 -- Loss: 0.0290 Acc: 0.9888\n"
     ]
    },
    {
     "data": {
      "application/vnd.jupyter.widget-view+json": {
       "model_id": "1928e3801e984908bbcb240108f3cbc2",
       "version_major": 2,
       "version_minor": 0
      },
      "text/plain": [
       "HBox(children=(FloatProgress(value=0.0, description='Epoch 5 train', max=2000.0, style=ProgressStyle(descripti…"
      ]
     },
     "metadata": {},
     "output_type": "display_data"
    },
    {
     "name": "stdout",
     "output_type": "stream",
     "text": [
      "\n",
      "Epoch 5 -- Loss: 0.0261 Acc: 0.9899\n"
     ]
    }
   ],
   "source": [
    "#Delete later\n",
    "optimizer = optim.Adam(model.parameters(), lr = 1e-3)\n",
    "\n",
    "n_way = 60\n",
    "n_support = 5\n",
    "n_query = 5\n",
    "\n",
    "max_epoch = 5\n",
    "epoch_size = 2000\n",
    "\n",
    "Train.train(model, optimizer, train_x, train_y, n_way, n_support, n_query, max_epoch, epoch_size, dataloader)"
   ]
  },
  {
   "cell_type": "code",
   "execution_count": 27,
   "metadata": {},
   "outputs": [
    {
     "data": {
      "application/vnd.jupyter.widget-view+json": {
       "model_id": "d03a8c8d5db04556b236ea5e6553dd29",
       "version_major": 2,
       "version_minor": 0
      },
      "text/plain": [
       "HBox(children=(FloatProgress(value=0.0, description='Epoch 1 train', max=2000.0, style=ProgressStyle(descripti…"
      ]
     },
     "metadata": {},
     "output_type": "display_data"
    },
    {
     "name": "stdout",
     "output_type": "stream",
     "text": [
      "\n",
      "Epoch 1 -- Loss: 0.1153 Acc: 0.9639\n"
     ]
    },
    {
     "data": {
      "application/vnd.jupyter.widget-view+json": {
       "model_id": "b418b0b2554a4b9ea645573a5d388e13",
       "version_major": 2,
       "version_minor": 0
      },
      "text/plain": [
       "HBox(children=(FloatProgress(value=0.0, description='Epoch 2 train', max=2000.0, style=ProgressStyle(descripti…"
      ]
     },
     "metadata": {},
     "output_type": "display_data"
    },
    {
     "name": "stdout",
     "output_type": "stream",
     "text": [
      "\n",
      "Epoch 2 -- Loss: 0.0467 Acc: 0.9835\n"
     ]
    },
    {
     "data": {
      "application/vnd.jupyter.widget-view+json": {
       "model_id": "a312054bcce6431297db815a613fbb01",
       "version_major": 2,
       "version_minor": 0
      },
      "text/plain": [
       "HBox(children=(FloatProgress(value=0.0, description='Epoch 3 train', max=2000.0, style=ProgressStyle(descripti…"
      ]
     },
     "metadata": {},
     "output_type": "display_data"
    },
    {
     "name": "stdout",
     "output_type": "stream",
     "text": [
      "\n",
      "Epoch 3 -- Loss: 0.0349 Acc: 0.9870\n"
     ]
    },
    {
     "data": {
      "application/vnd.jupyter.widget-view+json": {
       "model_id": "e670a3c717554eb381b132b5cd6d22fd",
       "version_major": 2,
       "version_minor": 0
      },
      "text/plain": [
       "HBox(children=(FloatProgress(value=0.0, description='Epoch 4 train', max=2000.0, style=ProgressStyle(descripti…"
      ]
     },
     "metadata": {},
     "output_type": "display_data"
    },
    {
     "name": "stdout",
     "output_type": "stream",
     "text": [
      "\n",
      "Epoch 4 -- Loss: 0.0290 Acc: 0.9889\n"
     ]
    },
    {
     "data": {
      "application/vnd.jupyter.widget-view+json": {
       "model_id": "8f68556c1a2d4d7eb81350b6cbeac567",
       "version_major": 2,
       "version_minor": 0
      },
      "text/plain": [
       "HBox(children=(FloatProgress(value=0.0, description='Epoch 5 train', max=2000.0, style=ProgressStyle(descripti…"
      ]
     },
     "metadata": {},
     "output_type": "display_data"
    },
    {
     "name": "stdout",
     "output_type": "stream",
     "text": [
      "\n",
      "Epoch 5 -- Loss: 0.0260 Acc: 0.9899\n"
     ]
    }
   ],
   "source": [
    "optimizer = optim.Adam(model.parameters(), lr = 1e-3)\n",
    "\n",
    "n_way = 60\n",
    "n_support = 5\n",
    "n_query = 5\n",
    "\n",
    "max_epoch = 5\n",
    "epoch_size = 2000\n",
    "\n",
    "Train.train(model, optimizer, train_x, train_y, n_way, n_support, n_query, max_epoch, epoch_size, dataloader)"
   ]
  },
  {
   "cell_type": "code",
   "execution_count": 23,
   "metadata": {},
   "outputs": [
    {
     "data": {
      "application/vnd.jupyter.widget-view+json": {
       "model_id": "8bf58aafb66240fc90be6b7f5b28345e",
       "version_major": 2,
       "version_minor": 0
      },
      "text/plain": [
       "HBox(children=(FloatProgress(value=0.0, description='Epoch 1 train', max=2000.0, style=ProgressStyle(descripti…"
      ]
     },
     "metadata": {},
     "output_type": "display_data"
    },
    {
     "name": "stdout",
     "output_type": "stream",
     "text": [
      "\n",
      "Epoch 1 -- Loss: 0.3945 Acc: 0.8840\n"
     ]
    },
    {
     "data": {
      "application/vnd.jupyter.widget-view+json": {
       "model_id": "509f467f109542faae888c737c793c7c",
       "version_major": 2,
       "version_minor": 0
      },
      "text/plain": [
       "HBox(children=(FloatProgress(value=0.0, description='Epoch 2 train', max=2000.0, style=ProgressStyle(descripti…"
      ]
     },
     "metadata": {},
     "output_type": "display_data"
    },
    {
     "name": "stdout",
     "output_type": "stream",
     "text": [
      "\n",
      "Epoch 2 -- Loss: 0.1685 Acc: 0.9459\n"
     ]
    },
    {
     "data": {
      "application/vnd.jupyter.widget-view+json": {
       "model_id": "a7b5b0292b414dde800349cd436e22e1",
       "version_major": 2,
       "version_minor": 0
      },
      "text/plain": [
       "HBox(children=(FloatProgress(value=0.0, description='Epoch 3 train', max=2000.0, style=ProgressStyle(descripti…"
      ]
     },
     "metadata": {},
     "output_type": "display_data"
    },
    {
     "name": "stdout",
     "output_type": "stream",
     "text": [
      "\n",
      "Epoch 3 -- Loss: 0.1309 Acc: 0.9563\n"
     ]
    },
    {
     "data": {
      "application/vnd.jupyter.widget-view+json": {
       "model_id": "d0d89c2d7aac415fb59e5768f124286c",
       "version_major": 2,
       "version_minor": 0
      },
      "text/plain": [
       "HBox(children=(FloatProgress(value=0.0, description='Epoch 4 train', max=2000.0, style=ProgressStyle(descripti…"
      ]
     },
     "metadata": {},
     "output_type": "display_data"
    },
    {
     "name": "stdout",
     "output_type": "stream",
     "text": [
      "\n",
      "Epoch 4 -- Loss: 0.1113 Acc: 0.9616\n"
     ]
    },
    {
     "data": {
      "application/vnd.jupyter.widget-view+json": {
       "model_id": "4ae751bec8ea4db98201362f3940148b",
       "version_major": 2,
       "version_minor": 0
      },
      "text/plain": [
       "HBox(children=(FloatProgress(value=0.0, description='Epoch 5 train', max=2000.0, style=ProgressStyle(descripti…"
      ]
     },
     "metadata": {},
     "output_type": "display_data"
    },
    {
     "name": "stdout",
     "output_type": "stream",
     "text": [
      "\n",
      "Epoch 5 -- Loss: 0.1015 Acc: 0.9647\n"
     ]
    }
   ],
   "source": [
    "optimizer = optim.Adam(model.parameters(), lr = 1e-3)\n",
    "\n",
    "n_way = 60\n",
    "n_support = 1\n",
    "n_query = 5\n",
    "\n",
    "max_epoch = 5\n",
    "epoch_size = 2000\n",
    "\n",
    "Train.train(model, optimizer, train_x, train_y, n_way, n_support, n_query, max_epoch, epoch_size, dataloader)"
   ]
  },
  {
   "cell_type": "code",
   "execution_count": 24,
   "metadata": {},
   "outputs": [],
   "source": [
    "torch.save(model.state_dict(), \"./omniglot/prototype_model_one_shot.h5\")"
   ]
  },
  {
   "cell_type": "code",
   "execution_count": 11,
   "metadata": {},
   "outputs": [
    {
     "data": {
      "text/plain": [
       "Protonet(\n",
       "  (Encoder): Encoder(\n",
       "    (encode): Sequential(\n",
       "      (0): Sequential(\n",
       "        (0): Conv2d(3, 64, kernel_size=(3, 3), stride=(1, 1), padding=(1, 1))\n",
       "        (1): BatchNorm2d(64, eps=1e-05, momentum=0.1, affine=True, track_running_stats=True)\n",
       "        (2): ReLU()\n",
       "        (3): MaxPool2d(kernel_size=2, stride=2, padding=0, dilation=1, ceil_mode=False)\n",
       "      )\n",
       "      (1): Sequential(\n",
       "        (0): Conv2d(64, 64, kernel_size=(3, 3), stride=(1, 1), padding=(1, 1))\n",
       "        (1): BatchNorm2d(64, eps=1e-05, momentum=0.1, affine=True, track_running_stats=True)\n",
       "        (2): ReLU()\n",
       "        (3): MaxPool2d(kernel_size=2, stride=2, padding=0, dilation=1, ceil_mode=False)\n",
       "      )\n",
       "      (2): Sequential(\n",
       "        (0): Conv2d(64, 64, kernel_size=(3, 3), stride=(1, 1), padding=(1, 1))\n",
       "        (1): BatchNorm2d(64, eps=1e-05, momentum=0.1, affine=True, track_running_stats=True)\n",
       "        (2): ReLU()\n",
       "        (3): MaxPool2d(kernel_size=2, stride=2, padding=0, dilation=1, ceil_mode=False)\n",
       "      )\n",
       "      (3): Sequential(\n",
       "        (0): Conv2d(64, 64, kernel_size=(3, 3), stride=(1, 1), padding=(1, 1))\n",
       "        (1): BatchNorm2d(64, eps=1e-05, momentum=0.1, affine=True, track_running_stats=True)\n",
       "        (2): ReLU()\n",
       "        (3): MaxPool2d(kernel_size=2, stride=2, padding=0, dilation=1, ceil_mode=False)\n",
       "      )\n",
       "      (4): Flatten()\n",
       "    )\n",
       "  )\n",
       ")"
      ]
     },
     "execution_count": 11,
     "metadata": {},
     "output_type": "execute_result"
    }
   ],
   "source": [
    "saved_model = Protonet(encoder)\n",
    "model.load_state_dict(torch.load(\"./omniglot/prototype_model_one_shot.h5\"))\n",
    "model.eval()"
   ]
  },
  {
   "cell_type": "code",
   "execution_count": 27,
   "metadata": {},
   "outputs": [
    {
     "data": {
      "application/vnd.jupyter.widget-view+json": {
       "model_id": "c98cd1ae20be4d5c84ac668e17555806",
       "version_major": 2,
       "version_minor": 0
      },
      "text/plain": [
       "HBox(children=(FloatProgress(value=0.0, max=1000.0), HTML(value='')))"
      ]
     },
     "metadata": {},
     "output_type": "display_data"
    },
    {
     "name": "stdout",
     "output_type": "stream",
     "text": [
      "\n",
      "Test results -- Loss: 0.0145 Acc: 0.9962\n"
     ]
    }
   ],
   "source": [
    "n_way = 5\n",
    "n_support = 5\n",
    "n_query = 5\n",
    "\n",
    "test_episode = 1000\n",
    "\n",
    "Train.test(model, test_x, test_y, n_way, n_support, n_query, test_episode, dataloader)"
   ]
  },
  {
   "cell_type": "code",
   "execution_count": 28,
   "metadata": {},
   "outputs": [
    {
     "data": {
      "application/vnd.jupyter.widget-view+json": {
       "model_id": "c505f2f13e7a402492133e84f1106f33",
       "version_major": 2,
       "version_minor": 0
      },
      "text/plain": [
       "HBox(children=(FloatProgress(value=0.0, max=1000.0), HTML(value='')))"
      ]
     },
     "metadata": {},
     "output_type": "display_data"
    },
    {
     "name": "stdout",
     "output_type": "stream",
     "text": [
      "\n",
      "Test results -- Loss: 0.0472 Acc: 0.9884\n"
     ]
    }
   ],
   "source": [
    "n_way = 20\n",
    "n_support = 5\n",
    "n_query = 5\n",
    "\n",
    "test_episode = 1000\n",
    "\n",
    "Train.test(model, test_x, test_y, n_way, n_support, n_query, test_episode, dataloader)"
   ]
  },
  {
   "cell_type": "code",
   "execution_count": 31,
   "metadata": {},
   "outputs": [
    {
     "name": "stderr",
     "output_type": "stream",
     "text": [
      "Clipping input data to the valid range for imshow with RGB data ([0..1] for floats or [0..255] for integers).\n"
     ]
    },
    {
     "data": {
      "image/png": "[encoded data removed]",
      "text/plain": [
       "<Figure size 1152x504 with 1 Axes>"
      ]
     },
     "metadata": {
      "needs_background": "light"
     },
     "output_type": "display_data"
    }
   ],
   "source": [
    "my_sample = dataloader.extract_sample(n_way, n_support, n_query, test_x, test_y)\n",
    "display_sample(my_sample['images'])"
   ]
  },
  {
   "cell_type": "code",
   "execution_count": 32,
   "metadata": {},
   "outputs": [
    {
     "data": {
      "text/plain": [
       "{'loss': 0.0001658248802414164,\n",
       " 'acc': 1.0,\n",
       " 'y_predicted': tensor([[0, 0, 0, 0, 0],\n",
       "         [1, 1, 1, 1, 1],\n",
       "         [2, 2, 2, 2, 2],\n",
       "         [3, 3, 3, 3, 3],\n",
       "         [4, 4, 4, 4, 4]], device='cuda:6')}"
      ]
     },
     "execution_count": 32,
     "metadata": {},
     "output_type": "execute_result"
    }
   ],
   "source": [
    "my_loss, my_output = model.forward_loss(my_sample)\n",
    "my_output"
   ]
  },
  {
   "cell_type": "code",
   "execution_count": null,
   "metadata": {},
   "outputs": [],
   "source": []
  }
 ],
 "metadata": {
  "kernelspec": {
   "display_name": "Python 3",
   "language": "python",
   "name": "python3"
  },
  "language_info": {
   "codemirror_mode": {
    "name": "ipython",
    "version": 3
   },
   "file_extension": ".py",
   "mimetype": "text/x-python",
   "name": "python",
   "nbconvert_exporter": "python",
   "pygments_lexer": "ipython3",
   "version": "3.7.9"
  }
 },
 "nbformat": 4,
 "nbformat_minor": 4
}
